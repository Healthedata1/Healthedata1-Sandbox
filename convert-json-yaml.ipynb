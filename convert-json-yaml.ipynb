{
 "cells": [
  {
   "cell_type": "markdown",
   "metadata": {},
   "source": [
    "## Convert folder of json files to yaml using a bash one liner"
   ]
  },
  {
   "cell_type": "code",
   "execution_count": 12,
   "metadata": {},
   "outputs": [
    {
     "name": "stdout",
     "output_type": "stream",
     "text": [
      "========================================================================\n",
      "convert all json files in /Users/ehaas/Documents/FHIR/fhir-ipa/input/examples directory  to yaml in /Users/ehaas/Documents/FHIR/fhir-ipa/input/examples-yaml/json files\n",
      "outgoingPython 3.7 and PyYAML, json and sys modules are required\n",
      "example_json = /Users/ehaas/Documents/FHIR/fhir-ipa/input/examples/AllergyIntolerance-NKAExample.json\n",
      "example_yaml = /Users/ehaas/Documents/FHIR/fhir-ipa/input/examples-yaml/AllergyIntolerance-NKAExample.yaml\n",
      "example_json = /Users/ehaas/Documents/FHIR/fhir-ipa/input/examples/DocumentReference-USClinicalNoteExample1.json\n",
      "example_yaml = /Users/ehaas/Documents/FHIR/fhir-ipa/input/examples-yaml/DocumentReference-USClinicalNoteExample1.yaml\n",
      "example_json = /Users/ehaas/Documents/FHIR/fhir-ipa/input/examples/Medication-MedExample1.json\n",
      "example_yaml = /Users/ehaas/Documents/FHIR/fhir-ipa/input/examples-yaml/Medication-MedExample1.yaml\n",
      "example_json = /Users/ehaas/Documents/FHIR/fhir-ipa/input/examples/MedicationRequest-MedRecExample1.json\n",
      "example_yaml = /Users/ehaas/Documents/FHIR/fhir-ipa/input/examples-yaml/MedicationRequest-MedRecExample1.yaml\n",
      "example_json = /Users/ehaas/Documents/FHIR/fhir-ipa/input/examples/MedicationStatement-MedStatementExample1.json\n",
      "example_yaml = /Users/ehaas/Documents/FHIR/fhir-ipa/input/examples-yaml/MedicationStatement-MedStatementExample1.yaml\n",
      "example_json = /Users/ehaas/Documents/FHIR/fhir-ipa/input/examples/Observation-LabExample1.json\n",
      "example_yaml = /Users/ehaas/Documents/FHIR/fhir-ipa/input/examples-yaml/Observation-LabExample1.yaml\n",
      "example_json = /Users/ehaas/Documents/FHIR/fhir-ipa/input/examples/Observation-SmokingExample1.json\n",
      "example_yaml = /Users/ehaas/Documents/FHIR/fhir-ipa/input/examples-yaml/Observation-SmokingExample1.yaml\n",
      "example_json = /Users/ehaas/Documents/FHIR/fhir-ipa/input/examples/Observation-VitalSignsExample1.json\n",
      "example_yaml = /Users/ehaas/Documents/FHIR/fhir-ipa/input/examples-yaml/Observation-VitalSignsExample1.yaml\n",
      "example_json = /Users/ehaas/Documents/FHIR/fhir-ipa/input/examples/Practitioner-PractitionerExample1.json\n",
      "example_yaml = /Users/ehaas/Documents/FHIR/fhir-ipa/input/examples-yaml/Practitioner-PractitionerExample1.yaml\n",
      "example_json = /Users/ehaas/Documents/FHIR/fhir-ipa/input/examples/PractitionerRole-PractitionerRoleExample1.json\n",
      "example_yaml = /Users/ehaas/Documents/FHIR/fhir-ipa/input/examples-yaml/PractitionerRole-PractitionerRoleExample1.yaml\n",
      "=================================================================\n"
     ]
    }
   ],
   "source": [
    "%%bash\n",
    "base=/Users/ehaas/Documents/FHIR/fhir-ipa/input\n",
    "echo \"========================================================================\"\n",
    "echo \"convert all json files in $base/examples directory  to yaml in $base/examples-yaml/json files\"\n",
    "echo \"outgoingPython 3.7 and PyYAML, json and sys modules are required\"\n",
    "  for example_json in $base/examples/*.json\n",
    "    do\n",
    "    echo \"example_json = $example_json\"\n",
    "    example_yaml=$base/examples-yaml/$(basename $example_json)\n",
    "    example_yaml=${example_yaml%.*}.yaml\n",
    "    python3.7 -c 'import sys, yaml, json; yaml.dump(json.load(sys.stdin), sys.stdout, sort_keys=False, indent=2,)' < $example_json > $example_yaml\n",
    "    echo \"example_yaml = $example_yaml\"\n",
    "    done\n",
    "\n",
    "  echo \"=================================================================\"\n"
   ]
  },
  {
   "cell_type": "code",
   "execution_count": null,
   "metadata": {
    "vscode": {
     "languageId": "shellscript"
    }
   },
   "outputs": [],
   "source": []
  }
 ],
 "metadata": {
  "kernelspec": {
   "display_name": "jupyter",
   "language": "python",
   "name": "python3"
  },
  "language_info": {
   "codemirror_mode": {
    "name": "ipython",
    "version": 3
   },
   "file_extension": ".py",
   "mimetype": "text/x-python",
   "name": "python",
   "nbconvert_exporter": "python",
   "pygments_lexer": "ipython3",
   "version": "3.10.2"
  },
  "orig_nbformat": 4,
  "vscode": {
   "interpreter": {
    "hash": "18672f2fb81dcbb023a0ac48a86c775a19488782369d96ffbd3382a22fd285cf"
   }
  }
 },
 "nbformat": 4,
 "nbformat_minor": 2
}
